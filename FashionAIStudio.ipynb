{
  "nbformat": 4,
  "nbformat_minor": 0,
  "metadata": {
    "colab": {
      "private_outputs": true,
      "provenance": [],
      "include_colab_link": true
    },
    "kernelspec": {
      "name": "python3",
      "display_name": "Python 3"
    },
    "language_info": {
      "name": "python"
    },
    "accelerator": "GPU",
    "gpuClass": "standard"
  },
  "cells": [
    {
      "cell_type": "markdown",
      "metadata": {
        "id": "view-in-github",
        "colab_type": "text"
      },
      "source": [
        "<a href=\"https://colab.research.google.com/github/2003UJAN/AI-Fashion-Studio-Generator/blob/main/FashionAIStudio.ipynb\" target=\"_parent\"><img src=\"https://colab.research.google.com/assets/colab-badge.svg\" alt=\"Open In Colab\"/></a>"
      ]
    },
    {
      "cell_type": "code",
      "source": [
        "%pip install --quiet --upgrade diffusers transformers accelerate mediapy"
      ],
      "metadata": {
        "id": "ufD_d64nr08H"
      },
      "execution_count": null,
      "outputs": []
    },
    {
      "cell_type": "code",
      "source": [
        "import mediapy as media\n",
        "import random\n",
        "import sys\n",
        "import torch\n",
        "\n",
        "from diffusers import AutoPipelineForText2Image\n",
        "\n",
        "pipe = AutoPipelineForText2Image.from_pretrained(\n",
        "    \"stabilityai/sdxl-turbo\",\n",
        "    torch_dtype=torch.float16,\n",
        "    use_safetensors=True,\n",
        "    variant=\"fp16\",\n",
        "    )\n",
        "\n",
        "pipe = pipe.to(\"cuda\")"
      ],
      "metadata": {
        "id": "bG2hkmSEvByV"
      },
      "execution_count": null,
      "outputs": []
    },
    {
      "cell_type": "code",
      "source": [
        "# Request information from the user\n",
        "topwear = input(\"Enter the type of top you want (e.g. shirt, blouse, jacket): \")\n",
        "bottomwear = input(\"Enter the type of bottom garment you want (e.g. pants, skirt, shorts): \")\n",
        "accessories = input(\"Do you want to add any accessories? If so, which one? \")\n",
        "# Create the prompt based on the user's preferences\n",
        "prompt = f\"Generate a unique and spectacular fashion design. The upper garment must be {topwear}, the lower garment ones {bottomwear}, and as accessories include {accessories}. The design must be photorealistic, with cinematic lighting and hyper-realistic details. Use a cinematic composition, with a focus on innovation and technology. Add high-tech elements, such as a nanotech helmet and cutting-edge jewelry. The model should look elegant and dynamic, with a striking pose and captivating facial expression. this stunning image is rendered in insanely high resolution, realistic, HD, HDR, XDR, focus + sharpen + wide-angle 8K resolution + Adobe Lightroom + rule-of-thirds --ar 9:16\"\n",
        "\n",
        "# Generate the fashion design\n",
        "seed = random.randint(0, sys.maxsize)\n",
        "num_inference_steps = 4\n",
        "images = pipe(\n",
        "    prompt=prompt,\n",
        "    guidance_scale=0.0,\n",
        "    num_inference_steps=num_inference_steps,\n",
        "    generator=torch.Generator(\"cuda\").manual_seed(seed),\n",
        ").images\n",
        "\n",
        "# Show the generated layout\n",
        "print(f\"Prompt:\\t{prompt}\\nSeed:\\t{seed}\")\n",
        "media.show_images(images)\n",
        "images[0].save(\"output.jpg\")"
      ],
      "metadata": {
        "id": "AUc4QJfE-uR9"
      },
      "execution_count": null,
      "outputs": []
    }
  ]
}